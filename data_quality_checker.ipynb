{
 "cells": [
  {
   "cell_type": "markdown",
   "metadata": {
    "editable": true
   },
   "source": [
    "## DATA QUALITY CHECKERS\n",
    "### Create a test to check the column length and missing values of the json files"
   ]
  },
  {
   "cell_type": "code",
   "execution_count": 1,
   "metadata": {
    "editable": true
   },
   "outputs": [],
   "source": [
    "import os\n",
    "import glob\n",
    "import psycopg2\n",
    "import pandas as pd"
   ]
  },
  {
   "cell_type": "markdown",
   "metadata": {
    "editable": true
   },
   "source": [
    "### Define the function to access the json files"
   ]
  },
  {
   "cell_type": "code",
   "execution_count": 3,
   "metadata": {
    "editable": true
   },
   "outputs": [],
   "source": [
    "def get_files(filepath):\n",
    "    all_files = []\n",
    "    for root, dirs, files in os.walk(filepath):\n",
    "        files = glob.glob(os.path.join(root,'*.json'))\n",
    "        for f in files :\n",
    "            all_files.append(os.path.abspath(f))\n",
    "    \n",
    "    return all_files"
   ]
  },
  {
   "cell_type": "markdown",
   "metadata": {
    "editable": true
   },
   "source": [
    "### Create two constants to validate the two tests"
   ]
  },
  {
   "cell_type": "code",
   "execution_count": 4,
   "metadata": {
    "editable": true
   },
   "outputs": [],
   "source": [
    "COLUMN_LENGTH = 10\n",
    "MISSING_VALUES = 0"
   ]
  },
  {
   "cell_type": "code",
   "execution_count": 5,
   "metadata": {
    "editable": true
   },
   "outputs": [],
   "source": [
    "song_files = get_files('data/song_data')"
   ]
  },
  {
   "cell_type": "code",
   "execution_count": 6,
   "metadata": {
    "editable": true
   },
   "outputs": [],
   "source": [
    "#create lists to insert data and later transforme into a dataframe\n",
    "files = []\n",
    "test = []\n",
    "expected = []\n",
    "value = []\n",
    "result = []\n",
    "\n",
    "#function to insert data into the lists    \n",
    "def append_test(f, t, e, v, r):\n",
    "    files.append(f)\n",
    "    test.append(t)\n",
    "    expected.append(e)\n",
    "    value.append(v)\n",
    "    result.append(r)"
   ]
  },
  {
   "cell_type": "markdown",
   "metadata": {
    "editable": true
   },
   "source": [
    "### Generate a for loop to interact over the json files and make two tests:\n",
    "* Test the json atribute (columns) length\n",
    "* Test if the json have some missing values"
   ]
  },
  {
   "cell_type": "code",
   "execution_count": 8,
   "metadata": {
    "editable": true
   },
   "outputs": [],
   "source": [
    "for f in song_files:\n",
    "    df = pd.read_json(f, lines=True)\n",
    "    columns_length = df.shape[1]\n",
    "    miss_values = df.isnull().sum(axis=1)[0]\n",
    "    column_test = columns_length == COLUMN_LENGTH\n",
    "    miss_test = miss_values == MISSING_VALUES\n",
    "    append_test(f,'COLUMNS_TEST',COLUMN_LENGTH,columns_length,column_test)\n",
    "    append_test(f,'MISSING_TEST',MISSING_VALUES,miss_values,miss_test)"
   ]
  },
  {
   "cell_type": "markdown",
   "metadata": {
    "editable": true
   },
   "source": [
    "### Convert all lists variables into a dataframe."
   ]
  },
  {
   "cell_type": "code",
   "execution_count": 9,
   "metadata": {
    "editable": true
   },
   "outputs": [],
   "source": [
    "columns_df = ['file', 'test_type', 'value_expected', 'value', 'test_result']\n",
    "rows_df = [files, test, expected, value, result]\n",
    "test_df = pd.DataFrame.from_dict(dict(zip(columns_df,rows_df)))"
   ]
  },
  {
   "cell_type": "code",
   "execution_count": 13,
   "metadata": {
    "editable": true
   },
   "outputs": [
    {
     "data": {
      "text/plain": [
       "1      /home/workspace/data/song_data/A/A/A/TRAAAAW12...\n",
       "3      /home/workspace/data/song_data/A/A/A/TRAAAVG12...\n",
       "5      /home/workspace/data/song_data/A/A/A/TRAAARJ12...\n",
       "7      /home/workspace/data/song_data/A/A/A/TRAAAPK12...\n",
       "11     /home/workspace/data/song_data/A/A/A/TRAAAMO12...\n",
       "13     /home/workspace/data/song_data/A/A/A/TRAAAMQ12...\n",
       "17     /home/workspace/data/song_data/A/A/A/TRAAAEF12...\n",
       "19     /home/workspace/data/song_data/A/A/A/TRAAAFD12...\n",
       "21     /home/workspace/data/song_data/A/A/A/TRAAADZ12...\n",
       "25     /home/workspace/data/song_data/A/A/A/.ipynb_ch...\n",
       "27     /home/workspace/data/song_data/A/A/A/.ipynb_ch...\n",
       "29     /home/workspace/data/song_data/A/A/A/.ipynb_ch...\n",
       "33     /home/workspace/data/song_data/A/A/B/TRAABRB12...\n",
       "37     /home/workspace/data/song_data/A/A/B/TRAABDL12...\n",
       "39     /home/workspace/data/song_data/A/A/B/TRAABJL12...\n",
       "41     /home/workspace/data/song_data/A/A/B/TRAABVM12...\n",
       "45     /home/workspace/data/song_data/A/A/B/TRAABXG12...\n",
       "47     /home/workspace/data/song_data/A/A/B/TRAABCL12...\n",
       "51     /home/workspace/data/song_data/A/A/B/TRAABJV12...\n",
       "53     /home/workspace/data/song_data/A/A/C/TRAACVS12...\n",
       "65     /home/workspace/data/song_data/A/A/C/TRAACIW12...\n",
       "69     /home/workspace/data/song_data/A/A/C/TRAACHN12...\n",
       "79     /home/workspace/data/song_data/A/A/C/TRAACZK12...\n",
       "81     /home/workspace/data/song_data/A/B/A/TRABAIO12...\n",
       "85     /home/workspace/data/song_data/A/B/A/TRABAZH12...\n",
       "95     /home/workspace/data/song_data/A/B/A/TRABAXV12...\n",
       "97     /home/workspace/data/song_data/A/B/A/TRABACN12...\n",
       "99     /home/workspace/data/song_data/A/B/A/TRABATO12...\n",
       "103    /home/workspace/data/song_data/A/B/B/TRABBVJ12...\n",
       "105    /home/workspace/data/song_data/A/B/B/TRABBXU12...\n",
       "109    /home/workspace/data/song_data/A/B/B/TRABBZN12...\n",
       "111    /home/workspace/data/song_data/A/B/B/TRABBNP12...\n",
       "113    /home/workspace/data/song_data/A/B/B/TRABBOR12...\n",
       "115    /home/workspace/data/song_data/A/B/B/TRABBOP12...\n",
       "119    /home/workspace/data/song_data/A/B/B/TRABBBV12...\n",
       "125    /home/workspace/data/song_data/A/B/B/TRABBTA12...\n",
       "127    /home/workspace/data/song_data/A/B/C/TRABCEI12...\n",
       "129    /home/workspace/data/song_data/A/B/C/TRABCUQ12...\n",
       "131    /home/workspace/data/song_data/A/B/C/TRABCTK12...\n",
       "137    /home/workspace/data/song_data/A/B/C/TRABCPZ12...\n",
       "139    /home/workspace/data/song_data/A/B/C/TRABCXB12...\n",
       "141    /home/workspace/data/song_data/A/B/C/TRABCAJ12...\n",
       "147    /home/workspace/data/song_data/A/B/C/TRABCRU12...\n",
       "Name: file, dtype: object"
      ]
     },
     "execution_count": 13,
     "metadata": {},
     "output_type": "execute_result"
    }
   ],
   "source": [
    "test_df[test_df['test_result']==False]['file']"
   ]
  },
  {
   "cell_type": "markdown",
   "metadata": {
    "editable": true
   },
   "source": [
    "### Final report of the tests"
   ]
  },
  {
   "cell_type": "code",
   "execution_count": 14,
   "metadata": {
    "editable": true
   },
   "outputs": [
    {
     "data": {
      "text/html": [
       "<div>\n",
       "<style scoped>\n",
       "    .dataframe tbody tr th:only-of-type {\n",
       "        vertical-align: middle;\n",
       "    }\n",
       "\n",
       "    .dataframe tbody tr th {\n",
       "        vertical-align: top;\n",
       "    }\n",
       "\n",
       "    .dataframe thead th {\n",
       "        text-align: right;\n",
       "    }\n",
       "</style>\n",
       "<table border=\"1\" class=\"dataframe\">\n",
       "  <thead>\n",
       "    <tr style=\"text-align: right;\">\n",
       "      <th></th>\n",
       "      <th>test_type</th>\n",
       "      <th>test_result</th>\n",
       "      <th>file</th>\n",
       "    </tr>\n",
       "  </thead>\n",
       "  <tbody>\n",
       "    <tr>\n",
       "      <th>0</th>\n",
       "      <td>COLUMNS_TEST</td>\n",
       "      <td>True</td>\n",
       "      <td>75</td>\n",
       "    </tr>\n",
       "    <tr>\n",
       "      <th>1</th>\n",
       "      <td>MISSING_TEST</td>\n",
       "      <td>False</td>\n",
       "      <td>43</td>\n",
       "    </tr>\n",
       "    <tr>\n",
       "      <th>2</th>\n",
       "      <td>MISSING_TEST</td>\n",
       "      <td>True</td>\n",
       "      <td>32</td>\n",
       "    </tr>\n",
       "  </tbody>\n",
       "</table>\n",
       "</div>"
      ],
      "text/plain": [
       "      test_type  test_result  file\n",
       "0  COLUMNS_TEST         True    75\n",
       "1  MISSING_TEST        False    43\n",
       "2  MISSING_TEST         True    32"
      ]
     },
     "execution_count": 14,
     "metadata": {},
     "output_type": "execute_result"
    }
   ],
   "source": [
    "test_df.groupby(['test_type','test_result'])['file'].count().reset_index()"
   ]
  },
  {
   "cell_type": "code",
   "execution_count": null,
   "metadata": {
    "editable": true
   },
   "outputs": [],
   "source": []
  }
 ],
 "metadata": {
  "kernelspec": {
   "display_name": "Python 3",
   "language": "python",
   "name": "python3"
  },
  "language_info": {
   "codemirror_mode": {
    "name": "ipython",
    "version": 3
   },
   "file_extension": ".py",
   "mimetype": "text/x-python",
   "name": "python",
   "nbconvert_exporter": "python",
   "pygments_lexer": "ipython3",
   "version": "3.6.3"
  }
 },
 "nbformat": 4,
 "nbformat_minor": 4
}
